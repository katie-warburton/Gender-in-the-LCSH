{
 "cells": [
  {
   "cell_type": "markdown",
   "metadata": {},
   "source": [
    "# Gender in the Library of Congress Subject Headings\n",
    "\n",
    "### Imports"
   ]
  },
  {
   "cell_type": "code",
   "execution_count": 1,
   "metadata": {},
   "outputs": [],
   "source": [
    "import pickle as pk\n",
    "import random\n",
    "import matplotlib.pyplot as plt \n",
    "import numpy as np\n",
    "import re\n",
    "import csv\n",
    "import collections\n",
    "\n",
    "import spacy \n",
    "nlp = spacy.load(\"en_core_web_sm\") "
   ]
  },
  {
   "cell_type": "markdown",
   "metadata": {},
   "source": [
    "### Functions"
   ]
  },
  {
   "cell_type": "code",
   "execution_count": 46,
   "metadata": {},
   "outputs": [],
   "source": [
    "def getNew(term):\n",
    "    return int(term['yearNew'][:4])\n",
    "\n",
    "def percent(num, denom):\n",
    "    if denom == 0:\n",
    "        return 0\n",
    "    return num/denom*100\n",
    "\n",
    "def findTerms(pattern, terms):\n",
    "    matchedTerms = {}\n",
    "    for idx, term in terms.items():\n",
    "        if re.search(pattern, term['heading'].lower()) is not None:\n",
    "            matchedTerms[idx] = term\n",
    "    return matchedTerms    \n",
    "\n",
    "def clean(word, keepBrack=False):\n",
    "    if keepBrack:\n",
    "        return word.lower().replace(\"'\", \" '\").replace(',', '').replace('_', '').replace('-', ' ').strip()\n",
    "    else:\n",
    "        return word.lower().replace('(', '').replace(')', '').replace(\"'\", \" '\").replace(',', '').replace('_', '').replace('-', ' ').strip()\n",
    "\n",
    "def findPairs(mTerms, wTerms, pairs):\n",
    "    pairedTerms = []\n",
    "    indicesW, indicesM = [], []\n",
    "    mHeads = [t['heading'] for t in mTerms.values()]\n",
    "    wHeads = [t['heading'] for t in wTerms.values()]\n",
    "    for i in range(len(pairs)):\n",
    "        wordM, wordW = pairs[i]\n",
    "        replaced = {}\n",
    "        for i, head in enumerate(wHeads):\n",
    "            wHead = head.lower()\n",
    "            if wordW in wHead:\n",
    "                replaced[wHead.replace(wordW, '')] = i\n",
    "        for i, head in enumerate(mHeads):\n",
    "            mHead = head.lower()\n",
    "            if wordM in mHead:\n",
    "                genTerm = mHead.replace(wordM, '')\n",
    "                if genTerm in replaced.keys() and i not in indicesM and replaced[genTerm] not in indicesW:\n",
    "                    pairedTerms.append((list(mTerms.items())[i],list(wTerms.items())[replaced[genTerm]]))\n",
    "                    indicesM.append(i)\n",
    "                    indicesW.append(replaced[genTerm])\n",
    "    return pairedTerms"
   ]
  },
  {
   "cell_type": "markdown",
   "metadata": {},
   "source": [
    "### Load Data"
   ]
  },
  {
   "cell_type": "code",
   "execution_count": 222,
   "metadata": {},
   "outputs": [],
   "source": [
    "with open('Data/LCSH/lcsh.pickle', 'rb') as f:\n",
    "    lcsh = pk.load(f)\n",
    "\n",
    "with open('Data/LCSH/genLCSH-current.pickle', 'rb') as f:\n",
    "    wTerms, mTerms = pk.load(f)"
   ]
  },
  {
   "cell_type": "markdown",
   "metadata": {},
   "source": [
    "#### [WOMEN/MEN] in [BLANK]"
   ]
  },
  {
   "cell_type": "code",
   "execution_count": 4,
   "metadata": {},
   "outputs": [
    {
     "name": "stdout",
     "output_type": "stream",
     "text": [
      "There are 11 terms of the form \"men in __\" and 8 (72.73%) have a broader term.\n",
      "There are 131 terms of the form \"women in __\" and 121 (92.37%) have a broader term.\n",
      "There are 0 terms were men are the marked case and 113 where women are. 8 are paired.\n"
     ]
    }
   ],
   "source": [
    "menIn = findTerms(r'^men in ', mTerms)\n",
    "womenIn = findTerms(r'^women in ', wTerms)\n",
    "\n",
    "menInSub = {idx:term for idx, term in menIn.items() if term['bt'] is not None}\n",
    "womenInSub = {idx:term for idx, term in womenIn.items() if term['bt'] is not None}\n",
    "\n",
    "matched = findPairs(menInSub, womenInSub, [('men', 'women')])\n",
    "matchIdxW = [w[0] for _, w in matched]\n",
    "matchIdxM = [m[0] for m,_ in matched]\n",
    "\n",
    "print(f'There are {len(menIn)} terms of the form \"men in __\" and {len(menInSub)} ({percent(len(menInSub), len(menIn)):.2f}%) have a broader term.')\n",
    "print(f'There are {len(womenIn)} terms of the form \"women in __\" and {len(womenInSub)} ({percent(len(womenInSub), len(womenIn)):.2f}%) have a broader term.')\n",
    "\n",
    "menIn_mark = [term for idx, term in menInSub.items() if idx not in matchIdxM]\n",
    "womenIn_mark = [term for idx, term in womenInSub.items() if idx not in matchIdxW]\n",
    "\n",
    "print(f'There are {len(menIn_mark)} terms were men are the marked case and {len(womenIn_mark)} where women are. {len(matched)} are paired.')"
   ]
  },
  {
   "cell_type": "markdown",
   "metadata": {},
   "source": [
    "#### [Adj] [WOMEN/MEN] in [BLANK]"
   ]
  },
  {
   "cell_type": "code",
   "execution_count": 136,
   "metadata": {},
   "outputs": [
    {
     "name": "stdout",
     "output_type": "stream",
     "text": [
      "There are 25 terms of the form \"[Adj] men in __\" and 11 (44.00%) have a broader term.\n",
      "There are 85 terms of the form \"[Adj] women in __\" and 41 (48.24%) have a broader term.\n",
      "There are 6 terms were men are the marked case and 36 where women are. 5 are paired.\n"
     ]
    }
   ],
   "source": [
    "adjMenIn = findTerms(r' men in ', mTerms)\n",
    "adjWomenIn = findTerms(r' women in ', wTerms)\n",
    "\n",
    "adjMenInSub = {idx:term for idx, term in adjMenIn.items() if term['bt'] is not None}\n",
    "adjWomenInSub = {idx:term for idx, term in adjWomenIn.items() if term['bt'] is not None}\n",
    "\n",
    "matched = findPairs(adjMenInSub, adjWomenInSub, [('men', 'women')])\n",
    "matchIdxW = [w[0] for _, w in matched]\n",
    "matchIdxM = [m[0] for m,_ in matched]\n",
    "\n",
    "print(f'There are {len(adjMenIn)} terms of the form \"[Adj] men in __\" and {len(adjMenInSub)} ({percent(len(adjMenInSub), len(adjMenIn)):.2f}%) have a broader term.')\n",
    "print(f'There are {len(adjWomenIn)} terms of the form \"[Adj] women in __\" and {len(adjWomenInSub)} ({percent(len(adjWomenInSub), len(adjWomenIn)):.2f}%) have a broader term.')\n",
    "\n",
    "adjMenIn_mark = [term for idx, term in adjMenInSub.items() if idx not in matchIdxM]\n",
    "adjWomenIn_mark = [term for idx, term in adjWomenInSub.items() if idx not in matchIdxW]\n",
    "\n",
    "print(f'There are {len(adjMenIn_mark)} terms were men are the marked case and {len(adjWomenIn_mark)} where women are. {len(matched)} are paired.')"
   ]
  },
  {
   "cell_type": "markdown",
   "metadata": {},
   "source": [
    "[Women/Men] [Noun Phrase]"
   ]
  },
  {
   "cell_type": "code",
   "execution_count": 232,
   "metadata": {},
   "outputs": [],
   "source": [
    "def checkIdx(idx, lcsh): \n",
    "    try: \n",
    "        lcsh[idx]\n",
    "        return True\n",
    "    except KeyError: \n",
    "        return False"
   ]
  },
  {
   "cell_type": "code",
   "execution_count": 230,
   "metadata": {},
   "outputs": [],
   "source": [
    "def findTermsPOS(pattern, indexWord, terms):\n",
    "    matchedTerms = {}\n",
    "    for idx, term in terms.items():\n",
    "        if re.search(pattern, term['heading'].lower()) is not None:\n",
    "            words = clean(term['heading'], keepBrack=True).split()\n",
    "            i = words.index(indexWord) + 1\n",
    "            pos = nlp(words[i])[0].tag_\n",
    "            if ('(' not in words[i] \n",
    "                    and pos != 'DT' \n",
    "                    and pos != 'IN' \n",
    "                    and pos != 'CC' \n",
    "                    and 'in' not in words\n",
    "                    and 'on' not in words):\n",
    "                matchedTerms[idx] = term\n",
    "    return matchedTerms\n",
    "            \n",
    "def getParents(term, lcsh):\n",
    "    if term['bt'] is not None:\n",
    "        parents = [lcsh[idx] for idx in term['bt'] if idx.strip()]\n",
    "    else:\n",
    "        parents = []\n",
    "    return parents\n",
    "\n",
    "def getSiblings(term, parent, lcsh):\n",
    "    heads = [lcsh[idx]['heading'] for idx in parent['nt'] if idx.strip() and checkIdx(idx, lcsh)]\n",
    "    if term['heading'] not in heads:\n",
    "        raise ValueError('Parent LCSH is not the parent of the selected LCSH')\n",
    "    elif len(heads) == 1:\n",
    "        return []\n",
    "    else:\n",
    "        return [lcsh[idx] for idx in parent['nt'] if idx.strip() and checkIdx(idx, lcsh) and lcsh[idx]['heading'] != term['heading']]\n",
    "    \n",
    "def getSpecialTerm(siblings, keyWords, disWords):\n",
    "    specialSibs = []\n",
    "    for sib in siblings:\n",
    "        flag = False\n",
    "        if sib['synonyms'] is not None and sib['type'] == 'Topic':\n",
    "            words = clean(' '.join([var for var in sib['synonyms'] if '--' not in var])).split()\n",
    "            for word in keyWords:\n",
    "                if word in words:\n",
    "                    flag = True\n",
    "                    for word in disWords:\n",
    "                        if word in words:\n",
    "                            flag = False\n",
    "                    break\n",
    "            if flag:\n",
    "                specialSibs.append(sib)\n",
    "    return specialSibs\n",
    "\n",
    "\n",
    "            "
   ]
  },
  {
   "cell_type": "code",
   "execution_count": 226,
   "metadata": {},
   "outputs": [
    {
     "name": "stdout",
     "output_type": "stream",
     "text": [
      "There are 0 terms of the form \"men __\" and 0 (0.00%) have a broader term.\n",
      "There are 925 terms of the form \"women __\" and 697 (75.35%) have a broader term.\n",
      "There are 0 terms were men are the marked case and 697 where women are. 0 are paired.\n"
     ]
    }
   ],
   "source": [
    "menBlanks = findTermsPOS(r'^men ', 'men', mTerms)\n",
    "womenBlanks = findTermsPOS(r'^women ', 'women', wTerms)\n",
    "\n",
    "menBlanksSub = {idx:term for idx, term in menBlanks.items() if term['bt'] is not None}\n",
    "womenBlanksSub = {idx:term for idx, term in womenBlanks.items() if term['bt'] is not None}\n",
    "\n",
    "matchedW = findPairs(menBlanksSub, womenBlanksSub, [('men', 'women')])\n",
    "matchIdxW_ = [w[0] for _, w in matchedW]\n",
    "matchIdxM = [m[0] for m,_ in matchedW]\n",
    "\n",
    "print(f'There are {len(menBlanks)} terms of the form \"men __\" and {len(menBlanksSub)} ({percent(len(menBlanksSub), len(menBlanks)):.2f}%) have a broader term.')\n",
    "print(f'There are {len(womenBlanks)} terms of the form \"women __\" and {len(womenBlanksSub)} ({percent(len(womenBlanksSub), len(womenBlanks)):.2f}%) have a broader term.')\n",
    "\n",
    "menBlanks_mark = [term for idx, term in menBlanksSub.items() if idx not in matchIdxM]\n",
    "womenBlanks_mark = [term for idx, term in womenBlanksSub.items() if idx not in matchIdxW_]\n",
    "\n",
    "print(f'There are {len(menBlanks_mark)} terms were men are the marked case and {len(womenBlanks_mark)} where women are. {len(matchedW)} are paired.')"
   ]
  },
  {
   "cell_type": "code",
   "execution_count": 140,
   "metadata": {},
   "outputs": [
    {
     "name": "stdout",
     "output_type": "stream",
     "text": [
      "There are 0 terms of the form \"[adj] men __\" and 0 (0.00%) have a broader term.\n",
      "There are 228 terms of the form \"[adj] women __\" and 228 (100.00%) have a broader term.\n",
      "There are 0 terms were men are the marked case and 228 where women are. 0 are paired.\n"
     ]
    }
   ],
   "source": [
    "adjMenBlanks = findTermsPOS(r' men ', 'men', mTerms)\n",
    "adjWomenBlanks = findTermsPOS(r' women ', 'women', wTerms)\n",
    "\n",
    "adjMenBlanksSub = {idx:term for idx, term in adjMenBlanks.items() if term['bt'] is not None}\n",
    "adjWomenBlanksSub = {idx:term for idx, term in adjWomenBlanks.items() if term['bt'] is not None}\n",
    "\n",
    "matched = findPairs(adjMenBlanksSub, adjWomenBlanksSub, [('men', 'women')])\n",
    "matchIdxW = [w[0] for _, w in matched]\n",
    "matchIdxM = [m[0] for m,_ in matched]\n",
    "\n",
    "print(f'There are {len(adjMenBlanks)} terms of the form \"[adj] men __\" and {len(adjMenBlanksSub)} ({percent(len(adjMenBlanksSub), len(adjMenBlanks)):.2f}%) have a broader term.')\n",
    "print(f'There are {len(adjWomenBlanks)} terms of the form \"[adj] women __\" and {len(adjWomenBlanksSub)} ({percent(len(adjWomenBlanksSub), len(adjWomenBlanks)):.2f}%) have a broader term.')\n",
    "\n",
    "adjMenBlanks_mark = [term for idx, term in adjMenBlanksSub.items() if idx not in matchIdxM]\n",
    "adjWomenBlanks_mark = [term for idx, term in adjWomenBlanksSub.items() if idx not in matchIdxW]\n",
    "\n",
    "print(f'There are {len(adjMenBlanks_mark)} terms were men are the marked case and {len(adjWomenBlanks_mark)} where women are. {len(matched)} are paired.')"
   ]
  },
  {
   "cell_type": "code",
   "execution_count": 153,
   "metadata": {},
   "outputs": [
    {
     "name": "stdout",
     "output_type": "stream",
     "text": [
      "There are 64 terms of the form \"male __\" and 61 (95.31%) have a broader term.\n",
      "There are 23 terms of the form \"female __\" and 23 (100.00%) have a broader term.\n",
      "There are 56 terms were men are the marked case and 18 where women are. 5 are paired.\n"
     ]
    }
   ],
   "source": [
    "maleBlanks = findTermsPOS(r'^male ', 'male', mTerms)\n",
    "femaleBlanks = findTermsPOS(r'^female ', 'female', wTerms)\n",
    "\n",
    "maleBlanksSub = {idx:term for idx, term in maleBlanks.items() if term['bt'] is not None}\n",
    "femaleBlanksSub = {idx:term for idx, term in femaleBlanks.items() if term['bt'] is not None}\n",
    "\n",
    "matchedF = findPairs(maleBlanksSub, femaleBlanksSub, [('male', 'female')])\n",
    "\n",
    "matchIdxW = [w[0] for _, w in matchedF]\n",
    "matchIdxM_ = [m[0] for m,_ in matchedF]\n",
    "\n",
    "print(f'There are {len(maleBlanks)} terms of the form \"male __\" and {len(maleBlanksSub)} ({percent(len(maleBlanksSub), len(maleBlanks)):.2f}%) have a broader term.')\n",
    "print(f'There are {len(femaleBlanks)} terms of the form \"female __\" and {len(femaleBlanksSub)} ({percent(len(femaleBlanksSub), len(femaleBlanks)):.2f}%) have a broader term.')\n",
    "\n",
    "maleBlanks_mark = [term for idx, term in maleBlanksSub.items() if idx not in matchIdxM_]\n",
    "femaleBlanks_mark = [term for idx, term in femaleBlanksSub.items() if idx not in matchIdxW]\n",
    "\n",
    "print(f'There are {len(maleBlanks_mark)} terms were men are the marked case and {len(femaleBlanks_mark)} where women are. {len(matchedF)} are paired.')"
   ]
  },
  {
   "cell_type": "markdown",
   "metadata": {},
   "source": [
    "There are pairs of terms where 'male' is matched with 'women' so I'll look at terms for 'men' and 'male' vs 'women' and 'female'"
   ]
  },
  {
   "cell_type": "code",
   "execution_count": 192,
   "metadata": {},
   "outputs": [
    {
     "name": "stdout",
     "output_type": "stream",
     "text": [
      "There are 29 terms were men are the marked case (as male or men) and 688 where women are (as women or female). 32 are paired.\n"
     ]
    }
   ],
   "source": [
    "matched = findPairs(maleBlanksSub, womenBlanksSub, [('male', 'women')])\n",
    "matchIdxW = [w[0] for _, w in matched]\n",
    "matchIdxM = [m[0] for m,_ in matched]\n",
    "matched += matchedF + matchedW\n",
    "\n",
    "mmBlanks_mark = [term for idx, term in maleBlanksSub.items() if idx not in matchIdxM and idx not in matchIdxM_] + menBlanks_mark\n",
    "wfBlanks_mark = [term for idx, term in womenBlanksSub.items() if idx not in matchIdxW and idx not in matchIdxW_] + femaleBlanks_mark\n",
    "\n",
    "print(f'There are {len(mmBlanks_mark)} terms were men are the marked case (as male or men) and {len(wfBlanks_mark)} where women are (as women or female). {len(matched)} are paired.')"
   ]
  },
  {
   "cell_type": "code",
   "execution_count": 201,
   "metadata": {},
   "outputs": [],
   "source": [
    "with open('Data/markedMen.txt', 'w') as f:   \n",
    "    for term in mmBlanks_mark:\n",
    "        parents = getParents(term, lcsh)\n",
    "        f.write(f'{term['heading']} ({getNew(term)}):\\n')\n",
    "        for i, parent in enumerate(parents):\n",
    "            f.write(f'\\tParent {i+1}: {parent['heading']} ({getNew(parent)})\\n')\n",
    "            parentWords = clean(parent['heading']).split()\n",
    "            if 'male' not in parentWords and 'men' not in parentWords:\n",
    "                siblings = getSiblings(term, parent, lcsh)\n",
    "                if len(siblings) > 0:\n",
    "                    siblingStr = f'\\t\\tSiblings:\\n'\n",
    "                    for sibling in siblings:\n",
    "                        siblingStr = siblingStr + f'\\t\\t\\t{sibling['heading']} ({getNew(sibling)});\\n'\n",
    "                    f.write(siblingStr)\n",
    "        f.write('\\n')"
   ]
  },
  {
   "cell_type": "code",
   "execution_count": 233,
   "metadata": {},
   "outputs": [],
   "source": [
    "with open('Data/markedWomen.txt', 'w') as f:   \n",
    "    for term in wfBlanks_mark:\n",
    "        parents = getParents(term, lcsh)\n",
    "        f.write(f'{term['heading']} ({getNew(term)}):\\n')\n",
    "        for i, parent in enumerate(parents):\n",
    "            f.write(f'\\tParent {i+1}: {parent['heading']} ({getNew(parent)})\\n')\n",
    "            parentWords = clean(parent['heading']).split()\n",
    "            if 'female' not in parentWords and 'women' not in parentWords:\n",
    "                siblings = getSiblings(term, parent, lcsh)\n",
    "                if len(siblings) > 0:\n",
    "                    siblingStr = f'\\t\\tSiblings:\\n'\n",
    "                    for sibling in siblings:\n",
    "                        siblingStr = siblingStr + f'\\t\\t\\t{sibling['heading']} ({getNew(sibling)});\\n'\n",
    "                    f.write(siblingStr)\n",
    "        f.write('\\n')"
   ]
  },
  {
   "cell_type": "markdown",
   "metadata": {},
   "source": [
    "I want to update this to improve my method for finding words that are gendered variants that are obscured because they don't explicitly identify men or women (i.e. male actors and actresses)"
   ]
  },
  {
   "cell_type": "code",
   "execution_count": 235,
   "metadata": {},
   "outputs": [
    {
     "name": "stdout",
     "output_type": "stream",
     "text": [
      "Women transport workers ['Rickshaw men']\n",
      "Women fishers ['Whalers (Persons)']\n",
      "Women healers ['Shamans']\n",
      "Women television personalities ['Television news anchors']\n",
      "Women mediums ['Shamans']\n",
      "Women television journalists ['Television news anchors']\n",
      "Female genital mutilation ['Circumcision']\n",
      "Female genital mutilation ['Circumcision']\n"
     ]
    }
   ],
   "source": [
    "for term in wfBlanks_mark:\n",
    "    parents = getParents(term, lcsh)\n",
    "    for i, parent in enumerate(parents):\n",
    "        parentWords = clean(parent['heading']).split()\n",
    "        if 'female' not in parentWords and 'women' not in parentWords:\n",
    "            siblings = getSiblings(term, parent, lcsh)\n",
    "            if len(siblings) > 0:\n",
    "                specSibs = getSpecialTerm(siblings, ['men', 'male'], ['women', 'female'])\n",
    "                if len(specSibs) > 0:\n",
    "                    print(term['heading'], [s['heading'] for s in specSibs])"
   ]
  },
  {
   "cell_type": "code",
   "execution_count": 234,
   "metadata": {},
   "outputs": [
    {
     "name": "stdout",
     "output_type": "stream",
     "text": [
      "Male homosexuality ['Lesbianism']\n",
      "Male actors ['Actresses']\n",
      "Male prostitutes ['Camp followers']\n",
      "Male sexual abuse victims ['Rape victims']\n"
     ]
    }
   ],
   "source": [
    "for term in mmBlanks_mark:\n",
    "    parents = getParents(term, lcsh)\n",
    "    for i, parent in enumerate(parents):\n",
    "        parentWords = clean(parent['heading']).split()\n",
    "        if 'male' not in parentWords and 'men' not in parentWords:\n",
    "            siblings = getSiblings(term, parent, lcsh)\n",
    "            if len(siblings) > 0:\n",
    "                specSibs = getSpecialTerm(siblings, ['women', 'female'], ['men', 'male'])\n",
    "                if len(specSibs) > 0:\n",
    "                    print(term['heading'], [s['heading'] for s in specSibs])"
   ]
  }
 ],
 "metadata": {
  "kernelspec": {
   "display_name": "Proj4",
   "language": "python",
   "name": "proj4"
  },
  "language_info": {
   "codemirror_mode": {
    "name": "ipython",
    "version": 3
   },
   "file_extension": ".py",
   "mimetype": "text/x-python",
   "name": "python",
   "nbconvert_exporter": "python",
   "pygments_lexer": "ipython3",
   "version": "3.12.3"
  }
 },
 "nbformat": 4,
 "nbformat_minor": 2
}
