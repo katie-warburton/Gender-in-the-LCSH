{
 "cells": [
  {
   "cell_type": "markdown",
   "metadata": {},
   "source": [
    "# Extract Ngram Frequency \n",
    "\n",
    "### Imports"
   ]
  },
  {
   "cell_type": "code",
   "execution_count": 5,
   "metadata": {},
   "outputs": [],
   "source": [
    "import requests \n",
    "import urllib \n",
    "import inflect\n",
    "import time\n",
    "import csv\n",
    "from requests import JSONDecodeError\n",
    "import numpy as np"
   ]
  },
  {
   "cell_type": "markdown",
   "metadata": {},
   "source": [
    "### Functions"
   ]
  },
  {
   "cell_type": "code",
   "execution_count": 6,
   "metadata": {},
   "outputs": [],
   "source": [
    "\n",
    "def getSub(cue, phrase, p):\n",
    "    terms = phrase.split(',')\n",
    "    for t in terms:\n",
    "        words = t.split(' ')\n",
    "        idx = words.index(cue) - 1\n",
    "        word = words[idx]\n",
    "        singular = p.singular_noun(word)\n",
    "        if  singular is False:\n",
    "            words[idx] = p.plural(word)\n",
    "        else:\n",
    "            words[idx] = singular\n",
    "        phrase += \",\" + \" \".join(words)\n",
    "    return phrase\n",
    "    \n",
    "\n",
    "def getPlurals(grams):\n",
    "    p = inflect.engine()    \n",
    "    pluralGrams = []\n",
    "    for term in grams:\n",
    "        words = term.split(' ')\n",
    "        finalWord = words[-1]\n",
    "        singular = p.singular_noun(finalWord)\n",
    "        if  singular is False:\n",
    "            replace = p.plural(finalWord)\n",
    "        else:\n",
    "            replace = singular\n",
    "        \n",
    "        term2 = \" \".join(words[:-1]) + f\" {replace}\"\n",
    "        phrase = term + \",\" + term2\n",
    "        if 'in' in words:\n",
    "            phrase = getSub('in', phrase, p)\n",
    "        elif 'and' in words:\n",
    "            phrase = getSub('and', phrase, p)  \n",
    "        elif \"'s\" in words:\n",
    "            phrase = getSub(\"'s\", phrase, p)\n",
    "        elif 'of' in words:\n",
    "            phrase = getSub('of', phrase, p)\n",
    "        elif 'for' in words:\n",
    "            phrase = getSub('for', phrase, p)\n",
    "        pluralGrams.append(phrase)\n",
    "    return pluralGrams\n",
    "\n",
    "def getNgram(query, startYear, endYear, corpus='en-2019', smoothing=3): \n",
    "    query = urllib.parse.quote(query) \n",
    "    url = f'https://books.google.com/ngrams/json?content={query}&year_start={startYear}\\\n",
    "        &year_end={endYear}&corpus={corpus}&smoothing={smoothing}&case_insensitive=true'\n",
    "    response = requests.get(url) \n",
    "    \n",
    "    try:\n",
    "        output = response.json() \n",
    "    except JSONDecodeError:\n",
    "        print(response)\n",
    "        return False\n",
    "    \n",
    "    frequency = np.zeros((endYear-startYear+1))\n",
    "  \n",
    "    if len(output) == 0: \n",
    "        return None\n",
    "    else: \n",
    "        for num in range(len(output)): \n",
    "           if '(All)' not in output[num]['ngram']:\n",
    "              frequency += np.array(output[num]['timeseries'])  \n",
    "    return frequency \n"
   ]
  },
  {
   "cell_type": "markdown",
   "metadata": {},
   "source": [
    "### Extraction"
   ]
  },
  {
   "cell_type": "code",
   "execution_count": 10,
   "metadata": {},
   "outputs": [],
   "source": [
    "in_filename = 'socGrams'\n",
    "out_filename = 'socGrams'"
   ]
  },
  {
   "cell_type": "code",
   "execution_count": 11,
   "metadata": {},
   "outputs": [
    {
     "name": "stdout",
     "output_type": "stream",
     "text": [
      "1241\n"
     ]
    }
   ],
   "source": [
    "lcshGrams = []\n",
    "yrs = []\n",
    "indices = []\n",
    "with open (f'{in_filename}.txt') as f:\n",
    "    for line in f:\n",
    "        idx, gram, year = line.replace('\\n', '').split('\\t')\n",
    "        lcshGrams.append(gram)\n",
    "        yrs.append(int(year))\n",
    "        indices.append(idx)\n",
    "        \n",
    "gramsPlural = getPlurals(lcshGrams)\n",
    "print(len(gramsPlural))"
   ]
  },
  {
   "cell_type": "code",
   "execution_count": 12,
   "metadata": {},
   "outputs": [
    {
     "name": "stdout",
     "output_type": "stream",
     "text": [
      "Processing Ngrams for socGrams\n",
      "1 file(s) already processed. Currently processing cyberterrorism.\n"
     ]
    }
   ],
   "source": [
    "i = 0\n",
    "headers = ['Ngram'] + ['Year_Added'] + [i for i in range(1970, 2020)]\n",
    "\n",
    "with open(f'{out_filename}.csv', 'w', newline='') as f:\n",
    "    csvwriter = csv.writer(f)\n",
    "    csvwriter.writerow(headers)\n",
    "    print(f'Processing Ngrams for {out_filename}')\n",
    "    while i < len(gramsPlural):\n",
    "         gram = gramsPlural[i]\n",
    "         term = gram.split(',')[0]\n",
    "         if i%10 == 1:\n",
    "             print(f'{i} file(s) already processed. Currently processing {term}.')\n",
    "         freq = getNgram(gram, 1970, 2019)\n",
    "         if freq is not None and freq is not False:\n",
    "             row = [indices[i]] + [term] + [yrs[i]] + freq.tolist()\n",
    "             csvwriter.writerow(row)\n",
    "             i += 1\n",
    "         elif freq is None:\n",
    "             i += 1\n",
    "         elif freq is False:\n",
    "             print(f'pausing at index {i}, term {term}')\n",
    "             time.sleep(20)\n",
    "             continue\n",
    "        \n",
    "print(f'Stopped at index {i}, term {term}')"
   ]
  }
 ],
 "metadata": {
  "kernelspec": {
   "display_name": "Proj4",
   "language": "python",
   "name": "proj4"
  },
  "language_info": {
   "codemirror_mode": {
    "name": "ipython",
    "version": 3
   },
   "file_extension": ".py",
   "mimetype": "text/x-python",
   "name": "python",
   "nbconvert_exporter": "python",
   "pygments_lexer": "ipython3",
   "version": "3.12.3"
  }
 },
 "nbformat": 4,
 "nbformat_minor": 2
}
