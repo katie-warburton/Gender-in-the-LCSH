{
 "cells": [
  {
   "cell_type": "markdown",
   "metadata": {},
   "source": [
    "# Process LCSH\n",
    "Code to extract Library of Congress Subject Headings (LCSH) from the [Library of Congress](https://id.loc.gov/authorities/subjects.html) bulk download of MADS/RDF JSONLD files. Data was downloaded on May 22nd, 2024. \n",
    "\n",
    "The file *'subjects.madsrdf.jsonld'* should be saved to this folder to run the code.\n",
    "\n",
    "### Imports"
   ]
  },
  {
   "cell_type": "code",
   "execution_count": 1,
   "metadata": {},
   "outputs": [],
   "source": [
    "import json\n",
    "import pickle as pk"
   ]
  },
  {
   "cell_type": "markdown",
   "metadata": {},
   "source": [
    "### Extract LCSH"
   ]
  },
  {
   "cell_type": "code",
   "execution_count": 22,
   "metadata": {},
   "outputs": [],
   "source": [
    "def extractLCSH(file):\n",
    "    lcsh = {}\n",
    "    for idx, line in enumerate(open(file)):\n",
    "        if idx%50000==0:\n",
    "            print(f'{idx} records processed')\n",
    "        line = json.loads(line)\n",
    "        # Fefine variables\n",
    "        termID = line['@id'][22:]\n",
    "        heading, lcc, yearNew, yearRev, yearDep, kind = None, None, None, None, None, None\n",
    "        deletionNote, bt, nt, syns, formerHead, lang = None, None, None, None, None, None\n",
    "        altTerms = {}\n",
    "        for record in line['@graph']:\n",
    "            if record['@id'][39:] == termID:\n",
    "                #Current Subject Heading \n",
    "                if 'madsrdf:Authority' in record['@type']:\n",
    "                    heading = record['madsrdf:authoritativeLabel']['@value']\n",
    "                    lang = record['madsrdf:authoritativeLabel']['@language']\n",
    "                    kind = [t[8:] for t in record['@type'] if t[8:]!= 'Authority'][0]\n",
    "                    if 'madsrdf:hasBroaderAuthority' in record:\n",
    "                        # Broader Terms\n",
    "                        bt = record['madsrdf:hasBroaderAuthority']\n",
    "                        if type(bt) is list:\n",
    "                            bt = [term['@id'][39:] for term in bt]\n",
    "                        else:\n",
    "                            bt = [bt['@id'][39:]]\n",
    "                    if 'madsrdf:hasNarrowerAuthority' in record:\n",
    "                        # Narrower Terms\n",
    "                        nt = record['madsrdf:hasNarrowerAuthority']\n",
    "                        if type(nt) is list:\n",
    "                            nt = [term['@id'][39:] for term in nt]\n",
    "                        else:\n",
    "                            nt = [nt['@id'][39:]]\n",
    "                    if 'madsrdf:hasVariant' in record:\n",
    "                        # Synonyms of a term\n",
    "                        syns = record['madsrdf:hasVariant']\n",
    "                        if type(syns) is list:\n",
    "                            syns = [term['@id'] for term in syns]\n",
    "                        else:\n",
    "                            syns = [syns['@id']]\n",
    "                    if 'madsrdf:hasEarlierEstablishedForm' in record:\n",
    "                        # Former Headings\n",
    "                        formerHead = record['madsrdf:hasEarlierEstablishedForm']\n",
    "                        if type(formerHead) is list:\n",
    "                            formerHead = [term['@id'] for term in formerHead]\n",
    "                        else:\n",
    "                            formerHead = [formerHead['@id']]  \n",
    "                # Deprecated heading          \n",
    "                elif 'madsrdf:DeprecatedAuthority' in record['@type']:\n",
    "                    heading = '_' + record['madsrdf:variantLabel']['@value']\n",
    "                    lang = record['madsrdf:variantLabel']['@language']\n",
    "                    kind = [t[8:] for t in record['@type'] if t[8:] != 'DeprecatedAuthority' and t[8:] !='Variant'][0]\n",
    "                    if 'madsrdf:deletionNote' in record:\n",
    "                        # Reason for deletion\n",
    "                        deletionNote = record['madsrdf:deletionNote']\n",
    "                # This shouldn't happen \n",
    "                else:\n",
    "                    break \n",
    "            # If has associated library of congress classification\n",
    "            if \"lcc:ClassNumber\" in record['@type']:\n",
    "                lcc = record['madsrdf:code']\n",
    "            # Collect date information\n",
    "            if 'ri:RecordInfo' in record['@type']:\n",
    "                if record['ri:recordStatus'] == 'new':\n",
    "                    yearNew = record['ri:recordChangeDate']['@value']\n",
    "                elif record['ri:recordStatus'] == 'revised':\n",
    "                    yearRev =  record['ri:recordChangeDate']['@value']\n",
    "                elif record['ri:recordStatus'] == 'deprecated':\n",
    "                    yearDep = record['ri:recordChangeDate']['@value']\n",
    "            # Collect potential variants of a term\n",
    "            if '_:n' in record['@id'] and 'madsrdf:Variant' in record['@type']:\n",
    "                altTerms[record['@id']] = record['madsrdf:variantLabel']['@value']\n",
    "        # Term ids replaced with term for thos not linking to a subject headings\n",
    "        if formerHead is not None:\n",
    "            formerHead = [altTerms[i] for i in formerHead]\n",
    "        if syns is not None:\n",
    "            syns = [altTerms[i] for i in syns]\n",
    "        if heading is not None: # Should never be None, but just in case\n",
    "            lcsh[termID] = {'heading': heading,\n",
    "                            'lang': lang,\n",
    "                            'formerHead': formerHead, \n",
    "                            'lcc': lcc,\n",
    "                            'type': kind,\n",
    "                            'yearNew': yearNew,\n",
    "                            'yearRev': yearRev,\n",
    "                            'yearDep': yearDep,\n",
    "                            'bt': bt,\n",
    "                            'nt': nt,\n",
    "                            'synonyms': syns,\n",
    "                            'deleteNote': deletionNote}\n",
    "    print(f'----------------\\n{idx+1} records processed!')\n",
    "    return lcsh\n",
    "    "
   ]
  },
  {
   "cell_type": "code",
   "execution_count": 23,
   "metadata": {},
   "outputs": [
    {
     "name": "stdout",
     "output_type": "stream",
     "text": [
      "0 records processed\n",
      "50000 records processed\n",
      "100000 records processed\n",
      "150000 records processed\n",
      "200000 records processed\n",
      "250000 records processed\n",
      "300000 records processed\n",
      "350000 records processed\n",
      "400000 records processed\n",
      "450000 records processed\n",
      "500000 records processed\n",
      "----------------\n",
      "515970 records processed!\n"
     ]
    }
   ],
   "source": [
    "lcsh = extractLCSH(\"subjects.madsrdf.jsonld\")"
   ]
  },
  {
   "cell_type": "markdown",
   "metadata": {},
   "source": [
    "### Example Data"
   ]
  },
  {
   "cell_type": "code",
   "execution_count": 19,
   "metadata": {},
   "outputs": [
    {
     "data": {
      "text/plain": [
       "{'heading': 'Arakelov theory',\n",
       " 'lang': 'en',\n",
       " 'formerHead': None,\n",
       " 'lcc': 'QA242.6',\n",
       " 'type': 'Topic',\n",
       " 'yearNew': '2000-01-10T00:00:00',\n",
       " 'yearRev': '2000-04-03T10:42:54',\n",
       " 'yearDep': None,\n",
       " 'bt': ['sh87002041'],\n",
       " 'nt': None,\n",
       " 'synonyms': ['Arakelov geometry'],\n",
       " 'deleteNote': None}"
      ]
     },
     "execution_count": 19,
     "metadata": {},
     "output_type": "execute_result"
    }
   ],
   "source": [
    "lcsh['sh00000203']"
   ]
  },
  {
   "cell_type": "code",
   "execution_count": 20,
   "metadata": {},
   "outputs": [
    {
     "data": {
      "text/plain": [
       "{'heading': 'Arithmetical algebraic geometry',\n",
       " 'lang': 'en',\n",
       " 'formerHead': None,\n",
       " 'lcc': 'QA242.5-QA242.6',\n",
       " 'type': 'Topic',\n",
       " 'yearNew': '1987-04-02T00:00:00',\n",
       " 'yearRev': '2000-02-28T14:10:20',\n",
       " 'yearDep': None,\n",
       " 'bt': ['sh85093222'],\n",
       " 'nt': ['sh00000203', 'sh2001008362', 'sh93007485', 'sh94001868'],\n",
       " 'synonyms': ['Geometry, Diophantine',\n",
       "  'Geometry, Arithmetical algebraic',\n",
       "  'Diophantine geometry',\n",
       "  'Arithmetic algebraic geometry',\n",
       "  'Algebraic geometry, Arithmetical'],\n",
       " 'deleteNote': None}"
      ]
     },
     "execution_count": 20,
     "metadata": {},
     "output_type": "execute_result"
    }
   ],
   "source": [
    "lcsh['sh87002041']"
   ]
  },
  {
   "cell_type": "markdown",
   "metadata": {},
   "source": [
    "### Save Data"
   ]
  },
  {
   "cell_type": "code",
   "execution_count": 24,
   "metadata": {},
   "outputs": [],
   "source": [
    "with open('lcsh.pickle', 'wb') as f:\n",
    "    pk.dump(lcsh, f, protocol=pk.HIGHEST_PROTOCOL)"
   ]
  }
 ],
 "metadata": {
  "kernelspec": {
   "display_name": "Proj4",
   "language": "python",
   "name": "proj4"
  },
  "language_info": {
   "codemirror_mode": {
    "name": "ipython",
    "version": 3
   },
   "file_extension": ".py",
   "mimetype": "text/x-python",
   "name": "python",
   "nbconvert_exporter": "python",
   "pygments_lexer": "ipython3",
   "version": "3.12.3"
  }
 },
 "nbformat": 4,
 "nbformat_minor": 2
}
